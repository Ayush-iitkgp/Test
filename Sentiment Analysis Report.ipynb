{
 "cells": [
  {
   "cell_type": "markdown",
   "metadata": {},
   "source": [
    "# Sentiment Analysis Report\n",
    "In this report, I will explain the methodology I followed to solve the sentiment analysis problem.\n",
    "\n",
    "The idea is to write the reusable code for the pre-processing and the post the training part that can be used with different models.\n"
   ]
  },
  {
   "cell_type": "markdown",
   "metadata": {},
   "source": [
    "## 1. Preprocessing Step: \n",
    "The training and the validation data had non-relevant columns such as UMID, Entity etc. While loading the data in Pandas dataframe, the would occupy additional space in the memory. Also, the text had a lot of HTML tags, Punctuation, Numbers and Stopwords. I created the two new CSV files one for each train and the validate dataset. "
   ]
  },
  {
   "cell_type": "code",
   "execution_count": 2,
   "metadata": {},
   "outputs": [
    {
     "name": "stderr",
     "output_type": "stream",
     "text": [
      "/anaconda/lib/python2.7/site-packages/ipykernel_launcher.py:51: SettingWithCopyWarning: \n",
      "A value is trying to be set on a copy of a slice from a DataFrame\n",
      "\n",
      "See the caveats in the documentation: http://pandas.pydata.org/pandas-docs/stable/indexing.html#indexing-view-versus-copy\n"
     ]
    }
   ],
   "source": [
    "import pandas as pd\n",
    "import os\n",
    "local_path = \"/Users/ayush/ml-team-competition\"\n",
    "remote_path = \"/home/q-ayushpandey/ml-team-competition/\"\n",
    "os.chdir(local_path)\n",
    "xl = pd.ExcelFile(\"validate.xlsx\")\n",
    "# xl = pd.ExcelFile(\"ml-team-competition/train.xlsx\")\n",
    "#xl.sheet_names\n",
    "validate = xl.parse(\"Human\")\n",
    "validate_text_sentiment = validate[['Message','Human', 'Prediction']]\n",
    "from bs4 import BeautifulSoup \n",
    "import re\n",
    "import nltk\n",
    "#nltk.download()  # Download text data sets, including stop words\n",
    "from nltk.corpus import stopwords # Import the stop word list \n",
    "stops = set(stopwords.words(\"english\"))   \n",
    "\n",
    "def text_to_words(raw_text):\n",
    "    # Function to convert a raw review to a string of words\n",
    "    # The input is a single string (a raw movie review), and \n",
    "    # the output is a single string (a preprocessed movie review)\n",
    "    #\n",
    "    # 1. Remove HTML\n",
    "    review_text = BeautifulSoup(raw_text).get_text() \n",
    "    #\n",
    "    # 2. Remove non-letters        \n",
    "    letters_only = re.sub(\"[^a-zA-Z]\", \" \", review_text) \n",
    "    #\n",
    "    # 3. Convert to lower case, split into individual words\n",
    "    words = letters_only.lower().split()                             \n",
    "    #\n",
    "    # 4. In Python, searching a set is much faster than searching\n",
    "    #   a list, so convert the stop words to a set\n",
    "    # stops = set(stopwords.words(\"english\"))                  \n",
    "    # \n",
    "    # 5. Remove stop words\n",
    "    meaningful_words = [w for w in words if not w in stops]   \n",
    "    #\n",
    "    # 6. Join the words back into one string separated by space, \n",
    "    # and return the result.\n",
    "    clear_text = \" \".join(meaningful_words)\n",
    "    validate_text_sentiment[\"Message\"][i] = clear_text \n",
    "    #print i\n",
    "    #return( \" \".join( meaningful_words ))  \n",
    "\n",
    "num_text = validate_text_sentiment[\"Message\"].size #701989\n",
    "# num_text = 100000\n",
    "for i in xrange(0, num_text):\n",
    "    # Call our function for each one, and add the result to the list of\n",
    "    # clean Text\n",
    "    text_to_words(validate_text_sentiment[\"Message\"][i])\n",
    "\n",
    "validate_text_sentiment.to_csv(\"validate.csv\")"
   ]
  },
  {
   "cell_type": "markdown",
   "metadata": {},
   "source": [
    "## 2. Training\n",
    "\n",
    "I tried two different models: \n",
    "1. A **Random Forest Model**\n",
    "2. A Bigram Suport Vector Machine Classifier with bagging\n",
    "\n",
    "### 2.1 Training Random Forest Model\n",
    "This step can further be divided into 2 sub-steps:\n",
    "\n",
    "1. **Creating feature vector from the text data:** Used Bag of Words technique provided by scikit-learn. The Bag of Words model learns a vocabulary from all of the documents, then models each document by counting the number of times each word appears.\n",
    "\n",
    "\n",
    "2. **Hyper-parameter Tuning:** The Random Forest Model has hperparameters such as number of trees, height of the tree. I tuned the model using 10-fold cross validation on number of tree for values 100, 150, 200, 250 using the selection criteria as the default provided by the scikit-learn package.\n",
    "\n",
    "**Note 1:** *scikit-learn allows us to run our K-fold validation in parallel utilizing the cores in our system.*\n",
    "\n",
    "**Note 2:** *I tried tuning on F1 score but ran into some error. We need to look into it in future.*\n",
    "\n",
    "The model would write the predicted value and the actual value to **rf.csv** file.\n"
   ]
  },
  {
   "cell_type": "code",
   "execution_count": null,
   "metadata": {
    "collapsed": true
   },
   "outputs": [],
   "source": [
    "import pandas as pd\n",
    "import os\n",
    "local_path = \"/Users/ayush/ml-team-competition\"\n",
    "remote_path = \"/home/q-ayushpandey/ml-team-competition/\"\n",
    "os.chdir(local_path)\n",
    "\n",
    "train = pd.read_csv(\"train.csv\",index_col='Id')\n",
    "train.head\n",
    "num_text = train[\"Text\"].size\n",
    "print num_text\n",
    "# Initialize an empty list to hold the clean Text\n",
    "# clean_train_text = []\n",
    "\n",
    "# # Loop over each Text; create an index i that goes from 0 to the length\n",
    "# # of the movie review list \n",
    "# for i in xrange(0, num_text):\n",
    "#     # Call our function for each one, and add the result to the list of\n",
    "#     # clean Text\n",
    "#     if train[\"Text\"][i]==None:\n",
    "#         train[\"Text\"][i]=\"\"\n",
    "#         print \"None String\"\n",
    "    \n",
    "#     clean_train_text.append(train[\"Text\"][i])\n",
    "#     print i\n",
    "\n",
    "from sklearn.feature_extraction.text import CountVectorizer\n",
    "\n",
    "vectorizer = CountVectorizer(analyzer = \"word\", tokenizer = None, preprocessor = None, stop_words = None, max_features = 100) \n",
    "\n",
    "# fit_transform() does two functions: First, it fits the model\n",
    "# and learns the vocabulary; second, it transforms our training data\n",
    "# into feature vectors. The input to fit_transform should be a list of \n",
    "# strings.\n",
    "train_data_features = vectorizer.fit_transform(train[\"Text\"].values.astype('U'))\n",
    "# Numpy arrays are easy to work with, so convert the result to an \n",
    "# array\n",
    "train_data_features = train_data_features.toarray()\n",
    "# Take a look at the words in the vocabulary\n",
    "# vocab = vectorizer.get_feature_names()\n",
    "# print vocab\n",
    "print \"train_data_features prepared\"\n",
    "from sklearn.ensemble import RandomForestClassifier\n",
    "forest = RandomForestClassifier()\n",
    "\n",
    "# 10-fold Cross-Validation using Grid Search \n",
    "from sklearn.cross_validation import cross_val_score\n",
    "from sklearn import metrics\n",
    "scoring = ['precision_macro', 'recall_macro', 'f1_macro']\n",
    "# param_grid = {'n_estimators': [100, 150, 200, 250, 300]}\n",
    "param_grid = {'n_estimators': [1, 2, 3, 4]}\n",
    "from sklearn.grid_search import GridSearchCV\n",
    "grid_clf = GridSearchCV(forest, param_grid, cv=10, scoring='f1_macro', n_jobs=-1)\n",
    "#scores = cross_validate(clf, iris.data, iris.target, scoring=scoring, cv=5, return_train_score=False)\n",
    "grid_clf.fit(train_data_features, train[\"Sentiment\"])\n",
    "\n",
    "print \"Cross-Validation done\"\n",
    "best_model = grid_clf.best_estimator_\n",
    "print grid_clf.best_params_\n",
    "print grid_clf.grid_scores_\n",
    "\n",
    "# Initialize a Random Forest classifier with 100 trees\n",
    "#forest = RandomForestClassifier(n_estimators = 10) \n",
    "\n",
    "# Fit the forest to the training set, using the bag of words as \n",
    "# features and the sentiment labels as the response variable\n",
    "#\n",
    "# This may take a few minutes to run\n",
    "#forest = forest.fit(train_data_features,train[\"Sentiment\"] )\n",
    "\n",
    "# Predict using the existing model\n",
    "validate = pd.read_csv(\"validate.csv\",index_col='Id')\n",
    "clean_validate_text = []\n",
    "validate_num_text = validate[\"Message\"].size\n",
    "\n",
    "# Loop over each Text; create an index i that goes from 0 to the length\n",
    "# of the movie review list \n",
    "# for i in xrange(0, validate_num_text):\n",
    "#     # Call our function for each one, and add the result to the list of\n",
    "#     # clean Text\n",
    "#     clean_validate_text.append(validate[\"Message\"][i])\n",
    "#     print i\n",
    "\n",
    "#from sklearn.feature_extraction.text import CountVectorizer\n",
    "test_data_features = vectorizer.transform(validate[\"Message\"].values.astype('U'))\n",
    "test_data_features = test_data_features.toarray()\n",
    "result = best_model.predict(test_data_features)\n",
    "actual_prediction = pd.DataFrame( data={\"Prediction\":result, \"Actual\":validate[\"Human\"]} )\n",
    "actual_prediction.to_csv(\"rf.csv\")\n",
    "print \"Result written to DataFrame\"\n",
    "\n",
    "# from sklearn.metrics import f1_score, precision_score, recall_score\n",
    "# f1_score(actual_prediction[\"Actual\"], actual_prediction[\"Prediction\"], average=None)\n",
    "# precision_score(actual_prediction[\"Actual\"], actual_prediction[\"Prediction\"], average=None)\n",
    "# recall_score(actual_prediction[\"Actual\"], actual_prediction[\"Prediction\"], average=None)\n"
   ]
  },
  {
   "cell_type": "markdown",
   "metadata": {},
   "source": [
    "### 2.2 SVM Bigram Model\n",
    "\n",
    "Inspired by the [this](https://www.linkedin.com/pulse/best-ai-algorithms-sentiment-analysis-muktabh-mayank/) blogpost, I tried Support Vector Machine with Linear Kernel and Bigram Countevectorizer.\n",
    "\n",
    "**Note:** The training was very slow so instead I tried ensembles of 10 SVCs that are trained on subsets of the data to reduce the number of records per classifier which in turn reduced the training time complexity."
   ]
  },
  {
   "cell_type": "code",
   "execution_count": null,
   "metadata": {
    "collapsed": true
   },
   "outputs": [],
   "source": [
    "import pandas as pd\n",
    "import os\n",
    "local_path = \"/Users/ayush/ml-team-competition\"\n",
    "remote_path = \"/home/q-ayushpandey/ml-team-competition/\"\n",
    "os.chdir(local_path)\n",
    "\n",
    "train = pd.read_csv(\"train.csv\",index_col='Id')\n",
    "train.head\n",
    "num_text = train[\"Text\"].size\n",
    "print num_text\n",
    "from sklearn.feature_extraction.text import TfidfVectorizer, CountVectorizer\n",
    "#vectorizer = TfidfVectorizer(min_df=2,max_df = 0.95,sublinear_tf=True,use_idf=True)\n",
    "vectorizer = CountVectorizer(analyzer='char_wb', tokenizer = None, preprocessor = None, stop_words = None, max_features = 10, ngram_range=(2, 2))\n",
    "train_vectors = vectorizer.fit_transform(train[\"Text\"].values.astype('U'))\n",
    "\n",
    "validate = pd.read_csv(\"validate.csv\",index_col='Id')\n",
    "validate_num_text = validate[\"Message\"].size\n",
    "test_vectors = vectorizer.transform(validate[\"Message\"].values.astype('U'))\n",
    "\n",
    "# Model\n",
    "from sklearn import svm\n",
    "from sklearn.ensemble import BaggingClassifier\n",
    "# svm_rbf = svm.SVC(C = 1, gamma = 0.001, kernel='linear')\n",
    "n_estimators = 10\n",
    "svm_rbf = BaggingClassifier(svm.SVC(C = 1, gamma = 0.001, kernel='linear'),max_samples=1.0 / n_estimators, n_estimators=n_estimators)\n",
    "model = svm_rbf.fit(train_vectors,train[\"Sentiment\"])\n",
    "\n",
    "result = model.predict(test_vectors)\n",
    "\n",
    "\n",
    "actual_prediction = pd.DataFrame( data={\"Prediction\":result, \"Actual\":validate[\"Human\"]} )\n",
    "actual_prediction.to_csv(\"svm_ngram_bagging.csv\")\n",
    "print \"Result written to DataFrame\""
   ]
  },
  {
   "cell_type": "markdown",
   "metadata": {},
   "source": [
    "## 3. Prediction and Accuracy\n",
    "\n",
    "Once we have the **model_name.csv** file, we can use the **sklearn.metrics** functionality to calculate the F1 score, recall and the precision and write the result to **model_name_score.txt** file."
   ]
  },
  {
   "cell_type": "code",
   "execution_count": null,
   "metadata": {
    "collapsed": true
   },
   "outputs": [],
   "source": [
    "import pandas as pd\n",
    "import os\n",
    "local_path = \"/Users/ayush/ml-team-competition\"\n",
    "remote_path = \"/home/q-ayushpandey/ml-team-competition/\"\n",
    "os.chdir(local_path)\n",
    "\n",
    "actual_prediction = pd.read_csv(\"rf.csv\",index_col='Id')\n",
    "from sklearn.metrics import f1_score, precision_score, recall_score, classification_report\n",
    "calculated_f1_score = f1_score(actual_prediction[\"Actual\"], actual_prediction[\"Prediction\"], labels=[\"Neutral\",\"Positive\",\"Negative\"],average=None)\n",
    "print calculated_f1_score\n",
    "calculated_precision_score = precision_score(actual_prediction[\"Actual\"], actual_prediction[\"Prediction\"], average=None)\n",
    "print calculated_precision_score\n",
    "calculated_recall_score = recall_score(actual_prediction[\"Actual\"], actual_prediction[\"Prediction\"], average=None)\n",
    "print calculated_recall_score\n",
    "\n",
    "file = open(\"rf_score.txt\",\"w\") \n",
    " \n",
    "file.write(\"f1_score\\n\")\n",
    "file.write(\"%s\\n\" % calculated_f1_score)\n",
    "file.write(\"precision_score\\n\")\n",
    "file.write(\"%s\\n\" % calculated_precision_score)\n",
    "file.write(\"recall_score\\n\")\n",
    "file.write(\"%s\\n\" % calculated_recall_score)\n",
    "\n",
    "target_names = ['Nagative', 'Neutral', 'Positive']\n",
    "classification_report = classification_report(actual_prediction[\"Actual\"], actual_prediction[\"Prediction\"], target_names=target_names)\n",
    "print classification_report\n",
    "file.write(\"%s\\n\" % classification_report)\n",
    "\n",
    "file.close()"
   ]
  },
  {
   "cell_type": "markdown",
   "metadata": {},
   "source": [
    "## 4. Results"
   ]
  },
  {
   "cell_type": "markdown",
   "metadata": {},
   "source": [
    "### 4.1 Random Forest Model"
   ]
  },
  {
   "cell_type": "code",
   "execution_count": null,
   "metadata": {
    "collapsed": true
   },
   "outputs": [],
   "source": [
    "precision    recall  f1-score   support\n",
    "\n",
    "   Nagative       0.61      0.39      0.48       269\n",
    "    Neutral       0.55      0.77      0.64       427\n",
    "   Positive       0.72      0.53      0.61       304\n",
    "\n",
    "avg / total       0.62      0.59      0.59      1000"
   ]
  },
  {
   "cell_type": "markdown",
   "metadata": {
    "collapsed": true
   },
   "source": [
    "### 4.2 SVM Bigram Model"
   ]
  },
  {
   "cell_type": "code",
   "execution_count": null,
   "metadata": {
    "collapsed": true
   },
   "outputs": [],
   "source": [
    "precision    recall  f1-score   support\n",
    "\n",
    "   Nagative       0.25      0.64      0.36       269\n",
    "    Neutral       0.39      0.28      0.33       427\n",
    "   Positive       0.38      0.01      0.02       304\n",
    "\n",
    "avg / total       0.35      0.30      0.24      1000"
   ]
  }
 ],
 "metadata": {
  "kernelspec": {
   "display_name": "Python 2",
   "language": "python",
   "name": "python2"
  },
  "language_info": {
   "codemirror_mode": {
    "name": "ipython",
    "version": 2
   },
   "file_extension": ".py",
   "mimetype": "text/x-python",
   "name": "python",
   "nbconvert_exporter": "python",
   "pygments_lexer": "ipython2",
   "version": "2.7.13"
  }
 },
 "nbformat": 4,
 "nbformat_minor": 2
}
