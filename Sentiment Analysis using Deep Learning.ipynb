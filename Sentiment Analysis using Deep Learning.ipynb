{
 "cells": [
  {
   "cell_type": "code",
   "execution_count": 86,
   "metadata": {},
   "outputs": [],
   "source": [
    "# import keras\n",
    "import os\n",
    "import theano\n",
    "# Switch backen to theano\n",
    "os.environ['KERAS_BACKEND'] = 'theano'\n",
    "os.environ[\"THEANO_FLAGS\"] = \"mode=FAST_RUN\"\n",
    "from keras import models\n",
    "from keras import layers\n",
    "import pandas as pd"
   ]
  },
  {
   "cell_type": "code",
   "execution_count": 87,
   "metadata": {},
   "outputs": [],
   "source": [
    "df_train = pd.read_csv(\"data/workshop_train.csv\")"
   ]
  },
  {
   "cell_type": "code",
   "execution_count": 88,
   "metadata": {},
   "outputs": [
    {
     "data": {
      "text/html": [
       "<div>\n",
       "<style scoped>\n",
       "    .dataframe tbody tr th:only-of-type {\n",
       "        vertical-align: middle;\n",
       "    }\n",
       "\n",
       "    .dataframe tbody tr th {\n",
       "        vertical-align: top;\n",
       "    }\n",
       "\n",
       "    .dataframe thead th {\n",
       "        text-align: right;\n",
       "    }\n",
       "</style>\n",
       "<table border=\"1\" class=\"dataframe\">\n",
       "  <thead>\n",
       "    <tr style=\"text-align: right;\">\n",
       "      <th></th>\n",
       "      <th>id</th>\n",
       "      <th>sentiment</th>\n",
       "      <th>review</th>\n",
       "    </tr>\n",
       "  </thead>\n",
       "  <tbody>\n",
       "    <tr>\n",
       "      <th>0</th>\n",
       "      <td>5814_8</td>\n",
       "      <td>1</td>\n",
       "      <td>With all this stuff going down at the moment w...</td>\n",
       "    </tr>\n",
       "    <tr>\n",
       "      <th>1</th>\n",
       "      <td>10633_1</td>\n",
       "      <td>0</td>\n",
       "      <td>I watched this video at a friend's house. I'm ...</td>\n",
       "    </tr>\n",
       "    <tr>\n",
       "      <th>2</th>\n",
       "      <td>319_1</td>\n",
       "      <td>0</td>\n",
       "      <td>A friend of mine bought this film for £1, and ...</td>\n",
       "    </tr>\n",
       "    <tr>\n",
       "      <th>3</th>\n",
       "      <td>6811_10</td>\n",
       "      <td>1</td>\n",
       "      <td>Although I generally do not like remakes belie...</td>\n",
       "    </tr>\n",
       "    <tr>\n",
       "      <th>4</th>\n",
       "      <td>7369_1</td>\n",
       "      <td>0</td>\n",
       "      <td>I had a feeling that after \\Submerged\\\", this ...</td>\n",
       "    </tr>\n",
       "  </tbody>\n",
       "</table>\n",
       "</div>"
      ],
      "text/plain": [
       "        id  sentiment                                             review\n",
       "0   5814_8          1  With all this stuff going down at the moment w...\n",
       "1  10633_1          0  I watched this video at a friend's house. I'm ...\n",
       "2    319_1          0  A friend of mine bought this film for £1, and ...\n",
       "3  6811_10          1  Although I generally do not like remakes belie...\n",
       "4   7369_1          0  I had a feeling that after \\Submerged\\\", this ..."
      ]
     },
     "execution_count": 88,
     "metadata": {},
     "output_type": "execute_result"
    }
   ],
   "source": [
    "df_train.head()"
   ]
  },
  {
   "cell_type": "code",
   "execution_count": 4,
   "metadata": {},
   "outputs": [],
   "source": [
    "from bs4 import BeautifulSoup \n",
    "# The package comes built-in with Python\n",
    "import re\n",
    "# http://www.nltk.org/install.html\n",
    "import nltk "
   ]
  },
  {
   "cell_type": "code",
   "execution_count": 5,
   "metadata": {},
   "outputs": [],
   "source": [
    "from nltk.corpus import stopwords # Import the stop word list\n",
    "stops = set(stopwords.words(\"english\"))"
   ]
  },
  {
   "cell_type": "code",
   "execution_count": 6,
   "metadata": {},
   "outputs": [],
   "source": [
    "# Pre-processing step\n",
    "def text_to_words(raw_text):\n",
    "    # Function to convert a raw review to a string of words\n",
    "    # The input is a single string (a raw movie review), and \n",
    "    # the output is a single string (a preprocessed movie review)\n",
    "    \n",
    "    # 1. Remove HTML\n",
    "    review_text = BeautifulSoup(raw_text).get_text() \n",
    "\n",
    "    # 2. Remove non-letters\n",
    "    # Find anything that is NOT a lowercase letter (a-z) or an upper case letter (A-Z), and replace it with a space\n",
    "    letters_only = re.sub(\"[^a-zA-Z]\", \" \", review_text) \n",
    "    \n",
    "    # 3. Convert to lower case, split into individual words\n",
    "    words = letters_only.lower().split()                             \n",
    "    \n",
    "    # 4. In Python, searching a set is much faster than searching\n",
    "    #   a list, so convert the stop words to a set\n",
    "    # stops = set(stopwords.words(\"english\"))\n",
    "    \n",
    "    # There are many other things we could do to the data\n",
    "    # For example, Porter Stemming and Lemmatizing (both available in NLTK) \n",
    "    # would allow us to treat \"messages\", \"message\", and \"messaging\" as the same word\n",
    "    # which could certainly be useful.\n",
    "    \n",
    "    # 5. Remove stop words\n",
    "    meaningful_words = [w for w in words if not w in stops]   \n",
    "    #\n",
    "    # 6. Join the words back into one string separated by space, \n",
    "    # and return the result.\n",
    "    clear_text = \" \".join(meaningful_words)\n",
    "    return clear_text\n",
    "    #validate_text_sentiment[\"Message\"][i] = clear_text \n",
    "    #print i\n",
    "    #return( \" \".join( meaningful_words ))  "
   ]
  },
  {
   "cell_type": "code",
   "execution_count": 7,
   "metadata": {},
   "outputs": [
    {
     "name": "stderr",
     "output_type": "stream",
     "text": [
      "/Users/ayush/anaconda2/lib/python2.7/site-packages/bs4/__init__.py:181: UserWarning: No parser was explicitly specified, so I'm using the best available HTML parser for this system (\"lxml\"). This usually isn't a problem, but if you run this code on another system, or in a different virtual environment, it may use a different parser and behave differently.\n",
      "\n",
      "The code that caused this warning is on line 174 of the file /Users/ayush/anaconda2/lib/python2.7/runpy.py. To get rid of this warning, change code that looks like this:\n",
      "\n",
      " BeautifulSoup(YOUR_MARKUP})\n",
      "\n",
      "to this:\n",
      "\n",
      " BeautifulSoup(YOUR_MARKUP, \"lxml\")\n",
      "\n",
      "  markup_type=markup_type))\n"
     ]
    }
   ],
   "source": [
    "# Use the apply function in pandas to apply the function\n",
    "# axis = 1 specifier means that the application is done at a row than a column level\n",
    "df_train['cleaned_text'] = df_train.apply (lambda row: text_to_words(row.review), axis=1)"
   ]
  },
  {
   "cell_type": "code",
   "execution_count": 9,
   "metadata": {
    "scrolled": true
   },
   "outputs": [],
   "source": [
    "from sklearn.model_selection import train_test_split\n",
    "df_train, df_validate = train_test_split(df_train, test_size=0.2)"
   ]
  },
  {
   "cell_type": "code",
   "execution_count": 10,
   "metadata": {},
   "outputs": [],
   "source": [
    "from sklearn.feature_extraction.text import CountVectorizer\n",
    "vectorizer = CountVectorizer(analyzer = \"word\", tokenizer = None, preprocessor = None, stop_words = None, \n",
    "                             max_features = 5000) \n",
    "train_data_features = vectorizer.fit_transform(df_train['cleaned_text'].values.astype('U'))\n",
    "train_data_features = train_data_features.toarray()"
   ]
  },
  {
   "cell_type": "code",
   "execution_count": 11,
   "metadata": {},
   "outputs": [],
   "source": [
    "import numpy as np"
   ]
  },
  {
   "cell_type": "code",
   "execution_count": 12,
   "metadata": {},
   "outputs": [],
   "source": [
    "train_labels = df_train.sentiment.values\n",
    "y_train = np.asarray(train_labels).astype('float32')"
   ]
  },
  {
   "cell_type": "code",
   "execution_count": 13,
   "metadata": {},
   "outputs": [
    {
     "data": {
      "text/plain": [
       "array([ 1.,  1.,  0., ...,  1.,  1.,  1.], dtype=float32)"
      ]
     },
     "execution_count": 13,
     "metadata": {},
     "output_type": "execute_result"
    }
   ],
   "source": [
    "y_train"
   ]
  },
  {
   "cell_type": "code",
   "execution_count": 14,
   "metadata": {},
   "outputs": [],
   "source": [
    "validate_data_features = vectorizer.transform(df_validate['cleaned_text'].values.astype('U'))\n",
    "validate_data_features = validate_data_features.toarray()"
   ]
  },
  {
   "cell_type": "code",
   "execution_count": 15,
   "metadata": {},
   "outputs": [],
   "source": [
    "val_labels = df_validate.sentiment.values\n",
    "y_val = np.asarray(val_labels).astype('float32')"
   ]
  },
  {
   "cell_type": "code",
   "execution_count": 16,
   "metadata": {},
   "outputs": [],
   "source": [
    "# The core data structure of Keras is a model\n",
    "# The simplest type of model is the Sequential model\n",
    "# Sequential model a linear stack of layers"
   ]
  },
  {
   "cell_type": "code",
   "execution_count": 89,
   "metadata": {},
   "outputs": [],
   "source": [
    "model = models.Sequential()\n",
    "model.add(layers.Dense(16, activation='relu', input_shape=(5000,)))\n",
    "model.add(layers.Dense(16, activation='sigmoid'))\n",
    "model.add(layers.Dense(1, activation='sigmoid'))   "
   ]
  },
  {
   "cell_type": "code",
   "execution_count": 90,
   "metadata": {},
   "outputs": [],
   "source": [
    "model.compile(optimizer='rmsprop',\n",
    "              loss='binary_crossentropy',\n",
    "              metrics=['accuracy'])"
   ]
  },
  {
   "cell_type": "code",
   "execution_count": 101,
   "metadata": {},
   "outputs": [
    {
     "name": "stdout",
     "output_type": "stream",
     "text": [
      "Train on 8074 samples, validate on 2019 samples\n",
      "Epoch 1/15\n",
      "4096/8074 [==============>...............] - ETA: 0s - loss: 0.0289 - acc: 0.9961"
     ]
    },
    {
     "name": "stderr",
     "output_type": "stream",
     "text": [
      "/Users/ayush/anaconda2/lib/python2.7/site-packages/ipykernel_launcher.py:3: UserWarning: The `nb_epoch` argument in `fit` has been renamed `epochs`.\n",
      "  This is separate from the ipykernel package so we can avoid doing imports until\n"
     ]
    },
    {
     "name": "stdout",
     "output_type": "stream",
     "text": [
      "8074/8074 [==============================] - 0s 61us/step - loss: 0.0256 - acc: 0.9970 - val_loss: 0.5187 - val_acc: 0.8479\n",
      "Epoch 2/15\n",
      "8074/8074 [==============================] - 0s 43us/step - loss: 0.0226 - acc: 0.9973 - val_loss: 0.5368 - val_acc: 0.8465\n",
      "Epoch 3/15\n",
      "8074/8074 [==============================] - 0s 51us/step - loss: 0.0200 - acc: 0.9979 - val_loss: 0.5532 - val_acc: 0.8465\n",
      "Epoch 4/15\n",
      "8074/8074 [==============================] - 0s 42us/step - loss: 0.0178 - acc: 0.9979 - val_loss: 0.5706 - val_acc: 0.8455\n",
      "Epoch 5/15\n",
      "8074/8074 [==============================] - 0s 54us/step - loss: 0.0157 - acc: 0.9981 - val_loss: 0.5884 - val_acc: 0.8445\n",
      "Epoch 6/15\n",
      "8074/8074 [==============================] - 0s 51us/step - loss: 0.0142 - acc: 0.9984 - val_loss: 0.6066 - val_acc: 0.8445\n",
      "Epoch 7/15\n",
      "8074/8074 [==============================] - 0s 42us/step - loss: 0.0131 - acc: 0.9985 - val_loss: 0.6312 - val_acc: 0.8425\n",
      "Epoch 8/15\n",
      "8074/8074 [==============================] - 0s 55us/step - loss: 0.0121 - acc: 0.9985 - val_loss: 0.6486 - val_acc: 0.8380\n",
      "Epoch 9/15\n",
      "8074/8074 [==============================] - 0s 45us/step - loss: 0.0113 - acc: 0.9985 - val_loss: 0.6626 - val_acc: 0.8425\n",
      "Epoch 10/15\n",
      "8074/8074 [==============================] - 0s 46us/step - loss: 0.0106 - acc: 0.9988 - val_loss: 0.6783 - val_acc: 0.8445\n",
      "Epoch 11/15\n",
      "8074/8074 [==============================] - 0s 41us/step - loss: 0.0098 - acc: 0.9989 - val_loss: 0.6977 - val_acc: 0.8415\n",
      "Epoch 12/15\n",
      "8074/8074 [==============================] - 0s 43us/step - loss: 0.0091 - acc: 0.9990 - val_loss: 0.7113 - val_acc: 0.8400\n",
      "Epoch 13/15\n",
      "8074/8074 [==============================] - 0s 41us/step - loss: 0.0085 - acc: 0.9990 - val_loss: 0.7265 - val_acc: 0.8380\n",
      "Epoch 14/15\n",
      "8074/8074 [==============================] - 0s 44us/step - loss: 0.0078 - acc: 0.9991 - val_loss: 0.7425 - val_acc: 0.8380\n",
      "Epoch 15/15\n",
      "8074/8074 [==============================] - 0s 41us/step - loss: 0.0072 - acc: 0.9991 - val_loss: 0.7571 - val_acc: 0.8390\n"
     ]
    }
   ],
   "source": [
    "history = model.fit(train_data_features,\n",
    "                    y_train,\n",
    "                    nb_epoch=15, batch_size=512, validation_split = 0.2)"
   ]
  },
  {
   "cell_type": "code",
   "execution_count": 102,
   "metadata": {},
   "outputs": [
    {
     "name": "stdout",
     "output_type": "stream",
     "text": [
      "[0.84794452722973612, 0.84645864132786219, 0.84645864935780946, 0.84546805192716878, 0.84447746875558882, 0.84447746875558882, 0.84249628635253448, 0.83803863224858044, 0.84249628012342104, 0.84447746432730919, 0.84150569072272763, 0.84001981465163478, 0.83803862601946699, 0.83803862601946699, 0.8390292154201604]\n"
     ]
    }
   ],
   "source": [
    "history_dict = history.history\n",
    "# print history_dict\n",
    "print history_dict.get('val_acc')"
   ]
  },
  {
   "cell_type": "code",
   "execution_count": 103,
   "metadata": {},
   "outputs": [
    {
     "data": {
      "text/plain": [
       "['acc', 'loss', 'val_acc', 'val_loss']"
      ]
     },
     "execution_count": 103,
     "metadata": {},
     "output_type": "execute_result"
    }
   ],
   "source": [
    "history_dict.keys()"
   ]
  },
  {
   "cell_type": "markdown",
   "metadata": {},
   "source": [
    "# Plotting the training and validation loss"
   ]
  },
  {
   "cell_type": "code",
   "execution_count": 104,
   "metadata": {},
   "outputs": [],
   "source": [
    "import matplotlib.pyplot as plt\n",
    "\n",
    "acc = history.history['acc']\n",
    "val_acc = history.history['val_acc']\n",
    "loss = history.history['loss']\n",
    "val_loss = history.history['val_loss']\n",
    "\n",
    "epochs = range(1, len(acc) + 1)"
   ]
  },
  {
   "cell_type": "code",
   "execution_count": 105,
   "metadata": {},
   "outputs": [
    {
     "data": {
      "image/png": "[encoded data removed]",
      "text/plain": [
       "<Figure size 432x288 with 1 Axes>"
      ]
     },
     "metadata": {},
     "output_type": "display_data"
    }
   ],
   "source": [
    "# \"bo\" is for \"blue dot\"\n",
    "plt.plot(epochs, loss, 'bo', label='Training loss')\n",
    "# b is for \"solid blue line\"\n",
    "plt.plot(epochs, val_loss, 'b', label='Validation loss')\n",
    "plt.title('Training and validation loss')\n",
    "plt.xlabel('Epochs')\n",
    "plt.ylabel('Loss')\n",
    "plt.legend()\n",
    "plt.show()"
   ]
  },
  {
   "cell_type": "code",
   "execution_count": 106,
   "metadata": {},
   "outputs": [
    {
     "data": {
      "image/png": "[encoded data removed]",
      "text/plain": [
       "<Figure size 432x288 with 1 Axes>"
      ]
     },
     "metadata": {},
     "output_type": "display_data"
    }
   ],
   "source": [
    "# \"bo\" is for \"blue dot\"\n",
    "plt.plot(epochs, acc, 'bo', label='Training acc')\n",
    "# b is for \"solid blue line\"\n",
    "plt.plot(epochs, val_acc, 'b', label='Validation acc')\n",
    "plt.title('Training and validation acc')\n",
    "plt.xlabel('Epochs')\n",
    "plt.ylabel('Acc')\n",
    "plt.legend()\n",
    "plt.show()"
   ]
  },
  {
   "cell_type": "markdown",
   "metadata": {},
   "source": [
    "## Validation"
   ]
  },
  {
   "cell_type": "code",
   "execution_count": 107,
   "metadata": {},
   "outputs": [],
   "source": [
    "val_predict = model.predict(validate_data_features)\n",
    "val_predict = categorical_probas_to_classes(val_predict)"
   ]
  },
  {
   "cell_type": "code",
   "execution_count": 108,
   "metadata": {},
   "outputs": [
    {
     "name": "stdout",
     "output_type": "stream",
     "text": [
      "             precision    recall  f1-score   support\n",
      "\n",
      "          0       0.16      0.17      0.16      1231\n",
      "          1       0.18      0.17      0.17      1293\n",
      "\n",
      "avg / total       0.17      0.17      0.17      2524\n",
      "\n"
     ]
    }
   ],
   "source": [
    "from sklearn.metrics import classification_report\n",
    "target_names = ['0', '1']\n",
    "print(classification_report(y_val, val_predict, target_names=target_names))"
   ]
  },
  {
   "cell_type": "markdown",
   "metadata": {},
   "source": [
    "# Prediction"
   ]
  },
  {
   "cell_type": "code",
   "execution_count": 109,
   "metadata": {},
   "outputs": [],
   "source": [
    "df_test = pd.read_csv(\"data/workshop_test.csv\")"
   ]
  },
  {
   "cell_type": "code",
   "execution_count": 110,
   "metadata": {},
   "outputs": [],
   "source": [
    "df_test['cleaned_text'] = df_test.apply (lambda row: text_to_words(row.review), axis=1)\n",
    "test_data_features = vectorizer.transform(df_test['cleaned_text'].values.astype('U'))\n",
    "test_data_features = test_data_features.toarray()"
   ]
  },
  {
   "cell_type": "code",
   "execution_count": 111,
   "metadata": {},
   "outputs": [
    {
     "name": "stdout",
     "output_type": "stream",
     "text": [
      "[[ 0.00233898]\n",
      " [ 0.00161203]\n",
      " [ 0.75778043]\n",
      " ..., \n",
      " [ 0.00153205]\n",
      " [ 0.001571  ]\n",
      " [ 0.00152406]]\n"
     ]
    }
   ],
   "source": [
    "# Generating predictions for new data\n",
    "prediction = model.predict(test_data_features)\n",
    "print prediction"
   ]
  },
  {
   "cell_type": "code",
   "execution_count": 112,
   "metadata": {},
   "outputs": [],
   "source": [
    "def categorical_probas_to_classes(p):\n",
    "    res = []\n",
    "    for i in p:\n",
    "        if i[0] > 0.5:\n",
    "            res.append(1)\n",
    "        else:\n",
    "            res.append(0)\n",
    "    return res\n",
    "#     return np.argmax(p, axis=1)"
   ]
  },
  {
   "cell_type": "code",
   "execution_count": 113,
   "metadata": {},
   "outputs": [],
   "source": [
    "actual_prediction = categorical_probas_to_classes(prediction)"
   ]
  },
  {
   "cell_type": "code",
   "execution_count": null,
   "metadata": {},
   "outputs": [],
   "source": [
    "# actual_prediction"
   ]
  },
  {
   "cell_type": "markdown",
   "metadata": {},
   "source": [
    "# Recurrent Neural Network"
   ]
  },
  {
   "cell_type": "code",
   "execution_count": 36,
   "metadata": {},
   "outputs": [],
   "source": [
    "from keras.preprocessing import sequence"
   ]
  },
  {
   "cell_type": "code",
   "execution_count": 79,
   "metadata": {},
   "outputs": [],
   "source": [
    "from keras.layers import Dense, SimpleRNN, Embedding\n",
    "from keras.models import Sequential"
   ]
  },
  {
   "cell_type": "code",
   "execution_count": 80,
   "metadata": {},
   "outputs": [],
   "source": [
    "max_features = 5000"
   ]
  },
  {
   "cell_type": "code",
   "execution_count": 114,
   "metadata": {},
   "outputs": [],
   "source": [
    "model = Sequential()\n",
    "model.add(Embedding(max_features, 32))\n",
    "model.add(SimpleRNN(32))\n",
    "model.add(Dense(1, activation='sigmoid'))"
   ]
  },
  {
   "cell_type": "code",
   "execution_count": 115,
   "metadata": {},
   "outputs": [],
   "source": [
    "model.compile(optimizer='rmsprop', loss='binary_crossentropy', metrics=['acc'])"
   ]
  },
  {
   "cell_type": "code",
   "execution_count": 116,
   "metadata": {},
   "outputs": [
    {
     "name": "stdout",
     "output_type": "stream",
     "text": [
      "Train on 8074 samples, validate on 2019 samples\n",
      "Epoch 1/5\n",
      "8074/8074 [==============================] - 159s 20ms/step - loss: 0.6984 - acc: 0.5337 - val_loss: 0.7294 - val_acc: 0.4928\n",
      "Epoch 2/5\n",
      "8074/8074 [==============================] - 262s 32ms/step - loss: 0.7102 - acc: 0.5255 - val_loss: 0.6944 - val_acc: 0.5419\n",
      "Epoch 3/5\n",
      "8074/8074 [==============================] - 729s 90ms/step - loss: 0.7013 - acc: 0.5266 - val_loss: 0.7064 - val_acc: 0.5032\n",
      "Epoch 4/5\n",
      "8074/8074 [==============================] - 7352s 911ms/step - loss: 0.7050 - acc: 0.5093 - val_loss: 0.6920 - val_acc: 0.5087\n",
      "Epoch 5/5\n",
      "8074/8074 [==============================] - 85s 11ms/step - loss: 0.6924 - acc: 0.5170 - val_loss: 0.6906 - val_acc: 0.5131\n"
     ]
    }
   ],
   "source": [
    "history = model.fit(train_data_features, y_train,\n",
    "                    epochs=5,\n",
    "                    batch_size=128,\n",
    "                    validation_split=0.2)"
   ]
  },
  {
   "cell_type": "code",
   "execution_count": null,
   "metadata": {},
   "outputs": [],
   "source": [
    "from keras.callbacks import EarlyStopping, ModelCheckpoint"
   ]
  },
  {
   "cell_type": "code",
   "execution_count": null,
   "metadata": {},
   "outputs": [],
   "source": [
    "early_stopping = EarlyStopping(patience=1, verbose=1)\n",
    "checkpointer = ModelCheckpoint(\n",
    "    filepath='model-weights' + \"-\" + \"{epoch:02d}-\" + str(\n",
    "        time.time()) + \".hdf5\",\n",
    "    verbose=2, save_best_only=True)"
   ]
  }
 ],
 "metadata": {
  "kernelspec": {
   "display_name": "Python 2",
   "language": "python",
   "name": "python2"
  },
  "language_info": {
   "codemirror_mode": {
    "name": "ipython",
    "version": 2
   },
   "file_extension": ".py",
   "mimetype": "text/x-python",
   "name": "python",
   "nbconvert_exporter": "python",
   "pygments_lexer": "ipython2",
   "version": "2.7.15"
  }
 },
 "nbformat": 4,
 "nbformat_minor": 2
}
